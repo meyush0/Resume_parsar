{
  "nbformat": 4,
  "nbformat_minor": 0,
  "metadata": {
    "colab": {
      "provenance": [],
      "gpuType": "T4",
      "cell_execution_strategy": "setup",
      "authorship_tag": "ABX9TyNRZIEwskCrW58YuesWp4Kv",
      "include_colab_link": true
    },
    "kernelspec": {
      "name": "python3",
      "display_name": "Python 3"
    },
    "language_info": {
      "name": "python"
    },
    "accelerator": "GPU"
  },
  "cells": [
    {
      "cell_type": "markdown",
      "metadata": {
        "id": "view-in-github",
        "colab_type": "text"
      },
      "source": [
        "<a href=\"https://colab.research.google.com/github/meyush0/Resume_parsar/blob/main/resume_parser.ipynb\" target=\"_parent\"><img src=\"https://colab.research.google.com/assets/colab-badge.svg\" alt=\"Open In Colab\"/></a>"
      ]
    },
    {
      "cell_type": "code",
      "source": [
        "!pip install tika"
      ],
      "metadata": {
        "id": "LEKHNUkwj_vY",
        "colab": {
          "base_uri": "https://localhost:8080/"
        },
        "outputId": "3e2d37ad-a0ce-4d47-a215-19b3510842f8"
      },
      "execution_count": null,
      "outputs": [
        {
          "output_type": "stream",
          "name": "stdout",
          "text": [
            "Collecting tika\n",
            "  Downloading tika-2.6.0.tar.gz (27 kB)\n",
            "  Preparing metadata (setup.py) ... \u001b[?25l\u001b[?25hdone\n",
            "Requirement already satisfied: setuptools in /usr/local/lib/python3.10/dist-packages (from tika) (67.7.2)\n",
            "Requirement already satisfied: requests in /usr/local/lib/python3.10/dist-packages (from tika) (2.31.0)\n",
            "Requirement already satisfied: charset-normalizer<4,>=2 in /usr/local/lib/python3.10/dist-packages (from requests->tika) (3.3.2)\n",
            "Requirement already satisfied: idna<4,>=2.5 in /usr/local/lib/python3.10/dist-packages (from requests->tika) (3.6)\n",
            "Requirement already satisfied: urllib3<3,>=1.21.1 in /usr/local/lib/python3.10/dist-packages (from requests->tika) (2.0.7)\n",
            "Requirement already satisfied: certifi>=2017.4.17 in /usr/local/lib/python3.10/dist-packages (from requests->tika) (2023.11.17)\n",
            "Building wheels for collected packages: tika\n",
            "  Building wheel for tika (setup.py) ... \u001b[?25l\u001b[?25hdone\n",
            "  Created wheel for tika: filename=tika-2.6.0-py3-none-any.whl size=32622 sha256=0a3ce562738bf45dcd0c9cd106ab2e01aabfea16aca01887fc9923a4eb0e85e5\n",
            "  Stored in directory: /root/.cache/pip/wheels/5f/71/c7/b757709531121b1700cffda5b6b0d4aad095fb507ec84316d0\n",
            "Successfully built tika\n",
            "Installing collected packages: tika\n",
            "Successfully installed tika-2.6.0\n"
          ]
        }
      ]
    },
    {
      "cell_type": "code",
      "source": [
        "!pip install PyPDF2"
      ],
      "metadata": {
        "id": "sGmXFTXgSn_z",
        "colab": {
          "base_uri": "https://localhost:8080/"
        },
        "outputId": "2ca152a2-d2a6-451b-9916-8ece017e73bd"
      },
      "execution_count": null,
      "outputs": [
        {
          "output_type": "stream",
          "name": "stdout",
          "text": [
            "Collecting PyPDF2\n",
            "  Downloading pypdf2-3.0.1-py3-none-any.whl (232 kB)\n",
            "\u001b[2K     \u001b[90m━━━━━━━━━━━━━━━━━━━━━━━━━━━━━━━━━━━━━━━━\u001b[0m \u001b[32m232.6/232.6 kB\u001b[0m \u001b[31m5.0 MB/s\u001b[0m eta \u001b[36m0:00:00\u001b[0m\n",
            "\u001b[?25hInstalling collected packages: PyPDF2\n",
            "Successfully installed PyPDF2-3.0.1\n"
          ]
        }
      ]
    },
    {
      "cell_type": "code",
      "source": [
        "!pip install flair"
      ],
      "metadata": {
        "id": "vRGN9OmZnaEC",
        "colab": {
          "base_uri": "https://localhost:8080/"
        },
        "outputId": "3c7539e6-ad3c-49b8-cfaf-432c08ff7c62"
      },
      "execution_count": null,
      "outputs": [
        {
          "output_type": "stream",
          "name": "stdout",
          "text": [
            "Collecting flair\n",
            "  Downloading flair-0.13.1-py3-none-any.whl (388 kB)\n",
            "\u001b[2K     \u001b[90m━━━━━━━━━━━━━━━━━━━━━━━━━━━━━━━━━━━━━━━━\u001b[0m \u001b[32m388.3/388.3 kB\u001b[0m \u001b[31m7.4 MB/s\u001b[0m eta \u001b[36m0:00:00\u001b[0m\n",
            "\u001b[?25hCollecting boto3>=1.20.27 (from flair)\n",
            "  Downloading boto3-1.34.10-py3-none-any.whl (139 kB)\n",
            "\u001b[2K     \u001b[90m━━━━━━━━━━━━━━━━━━━━━━━━━━━━━━━━━━━━━━━━\u001b[0m \u001b[32m139.3/139.3 kB\u001b[0m \u001b[31m7.9 MB/s\u001b[0m eta \u001b[36m0:00:00\u001b[0m\n",
            "\u001b[?25hCollecting bpemb>=0.3.2 (from flair)\n",
            "  Downloading bpemb-0.3.4-py3-none-any.whl (19 kB)\n",
            "Collecting conllu>=4.0 (from flair)\n",
            "  Downloading conllu-4.5.3-py2.py3-none-any.whl (16 kB)\n",
            "Collecting deprecated>=1.2.13 (from flair)\n",
            "  Downloading Deprecated-1.2.14-py2.py3-none-any.whl (9.6 kB)\n",
            "Collecting ftfy>=6.1.0 (from flair)\n",
            "  Downloading ftfy-6.1.3-py3-none-any.whl (53 kB)\n",
            "\u001b[2K     \u001b[90m━━━━━━━━━━━━━━━━━━━━━━━━━━━━━━━━━━━━━━━━\u001b[0m \u001b[32m53.4/53.4 kB\u001b[0m \u001b[31m8.1 MB/s\u001b[0m eta \u001b[36m0:00:00\u001b[0m\n",
            "\u001b[?25hRequirement already satisfied: gdown>=4.4.0 in /usr/local/lib/python3.10/dist-packages (from flair) (4.6.6)\n",
            "Requirement already satisfied: gensim>=4.2.0 in /usr/local/lib/python3.10/dist-packages (from flair) (4.3.2)\n",
            "Requirement already satisfied: huggingface-hub>=0.10.0 in /usr/local/lib/python3.10/dist-packages (from flair) (0.19.4)\n",
            "Collecting janome>=0.4.2 (from flair)\n",
            "  Downloading Janome-0.5.0-py2.py3-none-any.whl (19.7 MB)\n",
            "\u001b[2K     \u001b[90m━━━━━━━━━━━━━━━━━━━━━━━━━━━━━━━━━━━━━━━━\u001b[0m \u001b[32m19.7/19.7 MB\u001b[0m \u001b[31m63.5 MB/s\u001b[0m eta \u001b[36m0:00:00\u001b[0m\n",
            "\u001b[?25hCollecting langdetect>=1.0.9 (from flair)\n",
            "  Downloading langdetect-1.0.9.tar.gz (981 kB)\n",
            "\u001b[2K     \u001b[90m━━━━━━━━━━━━━━━━━━━━━━━━━━━━━━━━━━━━━━━━\u001b[0m \u001b[32m981.5/981.5 kB\u001b[0m \u001b[31m76.3 MB/s\u001b[0m eta \u001b[36m0:00:00\u001b[0m\n",
            "\u001b[?25h  Preparing metadata (setup.py) ... \u001b[?25l\u001b[?25hdone\n",
            "Requirement already satisfied: lxml>=4.8.0 in /usr/local/lib/python3.10/dist-packages (from flair) (4.9.3)\n",
            "Requirement already satisfied: matplotlib>=2.2.3 in /usr/local/lib/python3.10/dist-packages (from flair) (3.7.1)\n",
            "Requirement already satisfied: more-itertools>=8.13.0 in /usr/local/lib/python3.10/dist-packages (from flair) (10.1.0)\n",
            "Collecting mpld3>=0.3 (from flair)\n",
            "  Downloading mpld3-0.5.10-py3-none-any.whl (202 kB)\n",
            "\u001b[2K     \u001b[90m━━━━━━━━━━━━━━━━━━━━━━━━━━━━━━━━━━━━━━━━\u001b[0m \u001b[32m202.6/202.6 kB\u001b[0m \u001b[31m29.6 MB/s\u001b[0m eta \u001b[36m0:00:00\u001b[0m\n",
            "\u001b[?25hCollecting pptree>=3.1 (from flair)\n",
            "  Downloading pptree-3.1.tar.gz (3.0 kB)\n",
            "  Preparing metadata (setup.py) ... \u001b[?25l\u001b[?25hdone\n",
            "Requirement already satisfied: python-dateutil>=2.8.2 in /usr/local/lib/python3.10/dist-packages (from flair) (2.8.2)\n",
            "Collecting pytorch-revgrad>=0.2.0 (from flair)\n",
            "  Downloading pytorch_revgrad-0.2.0-py3-none-any.whl (4.6 kB)\n",
            "Requirement already satisfied: regex>=2022.1.18 in /usr/local/lib/python3.10/dist-packages (from flair) (2023.6.3)\n",
            "Requirement already satisfied: scikit-learn>=1.0.2 in /usr/local/lib/python3.10/dist-packages (from flair) (1.2.2)\n",
            "Collecting segtok>=1.5.11 (from flair)\n",
            "  Downloading segtok-1.5.11-py3-none-any.whl (24 kB)\n",
            "Collecting sqlitedict>=2.0.0 (from flair)\n",
            "  Downloading sqlitedict-2.1.0.tar.gz (21 kB)\n",
            "  Preparing metadata (setup.py) ... \u001b[?25l\u001b[?25hdone\n",
            "Requirement already satisfied: tabulate>=0.8.10 in /usr/local/lib/python3.10/dist-packages (from flair) (0.9.0)\n",
            "Requirement already satisfied: torch!=1.8,>=1.5.0 in /usr/local/lib/python3.10/dist-packages (from flair) (2.1.0+cu121)\n",
            "Requirement already satisfied: tqdm>=4.63.0 in /usr/local/lib/python3.10/dist-packages (from flair) (4.66.1)\n",
            "Collecting transformer-smaller-training-vocab>=0.2.3 (from flair)\n",
            "  Downloading transformer_smaller_training_vocab-0.3.3-py3-none-any.whl (14 kB)\n",
            "Requirement already satisfied: transformers[sentencepiece]<5.0.0,>=4.18.0 in /usr/local/lib/python3.10/dist-packages (from flair) (4.35.2)\n",
            "Collecting urllib3<2.0.0,>=1.0.0 (from flair)\n",
            "  Downloading urllib3-1.26.18-py2.py3-none-any.whl (143 kB)\n",
            "\u001b[2K     \u001b[90m━━━━━━━━━━━━━━━━━━━━━━━━━━━━━━━━━━━━━━━━\u001b[0m \u001b[32m143.8/143.8 kB\u001b[0m \u001b[31m11.5 MB/s\u001b[0m eta \u001b[36m0:00:00\u001b[0m\n",
            "\u001b[?25hCollecting wikipedia-api>=0.5.7 (from flair)\n",
            "  Downloading Wikipedia_API-0.6.0-py3-none-any.whl (14 kB)\n",
            "Collecting semver<4.0.0,>=3.0.0 (from flair)\n",
            "  Downloading semver-3.0.2-py3-none-any.whl (17 kB)\n",
            "Collecting botocore<1.35.0,>=1.34.10 (from boto3>=1.20.27->flair)\n",
            "  Downloading botocore-1.34.10-py3-none-any.whl (11.9 MB)\n",
            "\u001b[2K     \u001b[90m━━━━━━━━━━━━━━━━━━━━━━━━━━━━━━━━━━━━━━━━\u001b[0m \u001b[32m11.9/11.9 MB\u001b[0m \u001b[31m30.6 MB/s\u001b[0m eta \u001b[36m0:00:00\u001b[0m\n",
            "\u001b[?25hCollecting jmespath<2.0.0,>=0.7.1 (from boto3>=1.20.27->flair)\n",
            "  Downloading jmespath-1.0.1-py3-none-any.whl (20 kB)\n",
            "Collecting s3transfer<0.11.0,>=0.10.0 (from boto3>=1.20.27->flair)\n",
            "  Downloading s3transfer-0.10.0-py3-none-any.whl (82 kB)\n",
            "\u001b[2K     \u001b[90m━━━━━━━━━━━━━━━━━━━━━━━━━━━━━━━━━━━━━━━━\u001b[0m \u001b[32m82.1/82.1 kB\u001b[0m \u001b[31m11.8 MB/s\u001b[0m eta \u001b[36m0:00:00\u001b[0m\n",
            "\u001b[?25hRequirement already satisfied: numpy in /usr/local/lib/python3.10/dist-packages (from bpemb>=0.3.2->flair) (1.23.5)\n",
            "Requirement already satisfied: requests in /usr/local/lib/python3.10/dist-packages (from bpemb>=0.3.2->flair) (2.31.0)\n",
            "Collecting sentencepiece (from bpemb>=0.3.2->flair)\n",
            "  Downloading sentencepiece-0.1.99-cp310-cp310-manylinux_2_17_x86_64.manylinux2014_x86_64.whl (1.3 MB)\n",
            "\u001b[2K     \u001b[90m━━━━━━━━━━━━━━━━━━━━━━━━━━━━━━━━━━━━━━━━\u001b[0m \u001b[32m1.3/1.3 MB\u001b[0m \u001b[31m44.0 MB/s\u001b[0m eta \u001b[36m0:00:00\u001b[0m\n",
            "\u001b[?25hRequirement already satisfied: wrapt<2,>=1.10 in /usr/local/lib/python3.10/dist-packages (from deprecated>=1.2.13->flair) (1.14.1)\n",
            "Requirement already satisfied: wcwidth<0.3.0,>=0.2.12 in /usr/local/lib/python3.10/dist-packages (from ftfy>=6.1.0->flair) (0.2.12)\n",
            "Requirement already satisfied: filelock in /usr/local/lib/python3.10/dist-packages (from gdown>=4.4.0->flair) (3.13.1)\n",
            "Requirement already satisfied: six in /usr/local/lib/python3.10/dist-packages (from gdown>=4.4.0->flair) (1.16.0)\n",
            "Requirement already satisfied: beautifulsoup4 in /usr/local/lib/python3.10/dist-packages (from gdown>=4.4.0->flair) (4.11.2)\n",
            "Requirement already satisfied: scipy>=1.7.0 in /usr/local/lib/python3.10/dist-packages (from gensim>=4.2.0->flair) (1.11.4)\n",
            "Requirement already satisfied: smart-open>=1.8.1 in /usr/local/lib/python3.10/dist-packages (from gensim>=4.2.0->flair) (6.4.0)\n",
            "Requirement already satisfied: fsspec>=2023.5.0 in /usr/local/lib/python3.10/dist-packages (from huggingface-hub>=0.10.0->flair) (2023.6.0)\n",
            "Requirement already satisfied: pyyaml>=5.1 in /usr/local/lib/python3.10/dist-packages (from huggingface-hub>=0.10.0->flair) (6.0.1)\n",
            "Requirement already satisfied: typing-extensions>=3.7.4.3 in /usr/local/lib/python3.10/dist-packages (from huggingface-hub>=0.10.0->flair) (4.5.0)\n",
            "Requirement already satisfied: packaging>=20.9 in /usr/local/lib/python3.10/dist-packages (from huggingface-hub>=0.10.0->flair) (23.2)\n",
            "Requirement already satisfied: contourpy>=1.0.1 in /usr/local/lib/python3.10/dist-packages (from matplotlib>=2.2.3->flair) (1.2.0)\n",
            "Requirement already satisfied: cycler>=0.10 in /usr/local/lib/python3.10/dist-packages (from matplotlib>=2.2.3->flair) (0.12.1)\n",
            "Requirement already satisfied: fonttools>=4.22.0 in /usr/local/lib/python3.10/dist-packages (from matplotlib>=2.2.3->flair) (4.46.0)\n",
            "Requirement already satisfied: kiwisolver>=1.0.1 in /usr/local/lib/python3.10/dist-packages (from matplotlib>=2.2.3->flair) (1.4.5)\n",
            "Requirement already satisfied: pillow>=6.2.0 in /usr/local/lib/python3.10/dist-packages (from matplotlib>=2.2.3->flair) (9.4.0)\n",
            "Requirement already satisfied: pyparsing>=2.3.1 in /usr/local/lib/python3.10/dist-packages (from matplotlib>=2.2.3->flair) (3.1.1)\n",
            "Requirement already satisfied: jinja2 in /usr/local/lib/python3.10/dist-packages (from mpld3>=0.3->flair) (3.1.2)\n",
            "Requirement already satisfied: joblib>=1.1.1 in /usr/local/lib/python3.10/dist-packages (from scikit-learn>=1.0.2->flair) (1.3.2)\n",
            "Requirement already satisfied: threadpoolctl>=2.0.0 in /usr/local/lib/python3.10/dist-packages (from scikit-learn>=1.0.2->flair) (3.2.0)\n",
            "Requirement already satisfied: sympy in /usr/local/lib/python3.10/dist-packages (from torch!=1.8,>=1.5.0->flair) (1.12)\n",
            "Requirement already satisfied: networkx in /usr/local/lib/python3.10/dist-packages (from torch!=1.8,>=1.5.0->flair) (3.2.1)\n",
            "Requirement already satisfied: triton==2.1.0 in /usr/local/lib/python3.10/dist-packages (from torch!=1.8,>=1.5.0->flair) (2.1.0)\n",
            "Requirement already satisfied: tokenizers<0.19,>=0.14 in /usr/local/lib/python3.10/dist-packages (from transformers[sentencepiece]<5.0.0,>=4.18.0->flair) (0.15.0)\n",
            "Requirement already satisfied: safetensors>=0.3.1 in /usr/local/lib/python3.10/dist-packages (from transformers[sentencepiece]<5.0.0,>=4.18.0->flair) (0.4.1)\n",
            "Requirement already satisfied: protobuf in /usr/local/lib/python3.10/dist-packages (from transformers[sentencepiece]<5.0.0,>=4.18.0->flair) (3.20.3)\n",
            "Collecting accelerate>=0.20.3 (from transformers[sentencepiece]<5.0.0,>=4.18.0->flair)\n",
            "  Downloading accelerate-0.25.0-py3-none-any.whl (265 kB)\n",
            "\u001b[2K     \u001b[90m━━━━━━━━━━━━━━━━━━━━━━━━━━━━━━━━━━━━━━━━\u001b[0m \u001b[32m265.7/265.7 kB\u001b[0m \u001b[31m26.4 MB/s\u001b[0m eta \u001b[36m0:00:00\u001b[0m\n",
            "\u001b[?25hRequirement already satisfied: soupsieve>1.2 in /usr/local/lib/python3.10/dist-packages (from beautifulsoup4->gdown>=4.4.0->flair) (2.5)\n",
            "Requirement already satisfied: MarkupSafe>=2.0 in /usr/local/lib/python3.10/dist-packages (from jinja2->mpld3>=0.3->flair) (2.1.3)\n",
            "Requirement already satisfied: charset-normalizer<4,>=2 in /usr/local/lib/python3.10/dist-packages (from requests->bpemb>=0.3.2->flair) (3.3.2)\n",
            "Requirement already satisfied: idna<4,>=2.5 in /usr/local/lib/python3.10/dist-packages (from requests->bpemb>=0.3.2->flair) (3.6)\n",
            "Requirement already satisfied: certifi>=2017.4.17 in /usr/local/lib/python3.10/dist-packages (from requests->bpemb>=0.3.2->flair) (2023.11.17)\n",
            "Requirement already satisfied: PySocks!=1.5.7,>=1.5.6 in /usr/local/lib/python3.10/dist-packages (from requests->bpemb>=0.3.2->flair) (1.7.1)\n",
            "Requirement already satisfied: mpmath>=0.19 in /usr/local/lib/python3.10/dist-packages (from sympy->torch!=1.8,>=1.5.0->flair) (1.3.0)\n",
            "Requirement already satisfied: psutil in /usr/local/lib/python3.10/dist-packages (from accelerate>=0.20.3->transformers[sentencepiece]<5.0.0,>=4.18.0->flair) (5.9.5)\n",
            "Building wheels for collected packages: langdetect, pptree, sqlitedict\n",
            "  Building wheel for langdetect (setup.py) ... \u001b[?25l\u001b[?25hdone\n",
            "  Created wheel for langdetect: filename=langdetect-1.0.9-py3-none-any.whl size=993225 sha256=5067eb978e6c1661112f60db9d7b9179b9abd456017622c3dd1cf30afd8ade7d\n",
            "  Stored in directory: /root/.cache/pip/wheels/95/03/7d/59ea870c70ce4e5a370638b5462a7711ab78fba2f655d05106\n",
            "  Building wheel for pptree (setup.py) ... \u001b[?25l\u001b[?25hdone\n",
            "  Created wheel for pptree: filename=pptree-3.1-py3-none-any.whl size=4608 sha256=55c3a85f5636c511a5455d316ed30f212c6be487cc467573155ac8e062745290\n",
            "  Stored in directory: /root/.cache/pip/wheels/9f/b6/0e/6f26eb9e6eb53ff2107a7888d72b5a6a597593956113037828\n",
            "  Building wheel for sqlitedict (setup.py) ... \u001b[?25l\u001b[?25hdone\n",
            "  Created wheel for sqlitedict: filename=sqlitedict-2.1.0-py3-none-any.whl size=16863 sha256=8b0493b41239ffa6e5874e418771af16fb9890a4ed37a64f39396fb8004cc7eb\n",
            "  Stored in directory: /root/.cache/pip/wheels/79/d6/e7/304e0e6cb2221022c26d8161f7c23cd4f259a9e41e8bbcfabd\n",
            "Successfully built langdetect pptree sqlitedict\n",
            "Installing collected packages: sqlitedict, sentencepiece, pptree, janome, urllib3, semver, segtok, langdetect, jmespath, ftfy, deprecated, conllu, botocore, wikipedia-api, s3transfer, pytorch-revgrad, mpld3, bpemb, boto3, accelerate, transformer-smaller-training-vocab, flair\n",
            "  Attempting uninstall: urllib3\n",
            "    Found existing installation: urllib3 2.0.7\n",
            "    Uninstalling urllib3-2.0.7:\n",
            "      Successfully uninstalled urllib3-2.0.7\n",
            "Successfully installed accelerate-0.25.0 boto3-1.34.10 botocore-1.34.10 bpemb-0.3.4 conllu-4.5.3 deprecated-1.2.14 flair-0.13.1 ftfy-6.1.3 janome-0.5.0 jmespath-1.0.1 langdetect-1.0.9 mpld3-0.5.10 pptree-3.1 pytorch-revgrad-0.2.0 s3transfer-0.10.0 segtok-1.5.11 semver-3.0.2 sentencepiece-0.1.99 sqlitedict-2.1.0 transformer-smaller-training-vocab-0.3.3 urllib3-1.26.18 wikipedia-api-0.6.0\n"
          ]
        }
      ]
    },
    {
      "cell_type": "code",
      "source": [
        "!pip install --upgrade urllib3"
      ],
      "metadata": {
        "id": "QYX11uaCoNew",
        "colab": {
          "base_uri": "https://localhost:8080/"
        },
        "outputId": "104d64b3-b8f4-44c4-fa72-a9cc825b9640"
      },
      "execution_count": null,
      "outputs": [
        {
          "output_type": "stream",
          "name": "stdout",
          "text": [
            "Requirement already satisfied: urllib3 in /usr/local/lib/python3.10/dist-packages (1.26.18)\n",
            "Collecting urllib3\n",
            "  Downloading urllib3-2.1.0-py3-none-any.whl (104 kB)\n",
            "\u001b[2K     \u001b[90m━━━━━━━━━━━━━━━━━━━━━━━━━━━━━━━━━━━━━━━━\u001b[0m \u001b[32m104.6/104.6 kB\u001b[0m \u001b[31m2.8 MB/s\u001b[0m eta \u001b[36m0:00:00\u001b[0m\n",
            "\u001b[?25hInstalling collected packages: urllib3\n",
            "  Attempting uninstall: urllib3\n",
            "    Found existing installation: urllib3 1.26.18\n",
            "    Uninstalling urllib3-1.26.18:\n",
            "      Successfully uninstalled urllib3-1.26.18\n",
            "\u001b[31mERROR: pip's dependency resolver does not currently take into account all the packages that are installed. This behaviour is the source of the following dependency conflicts.\n",
            "botocore 1.34.10 requires urllib3<2.1,>=1.25.4; python_version >= \"3.10\", but you have urllib3 2.1.0 which is incompatible.\n",
            "flair 0.13.1 requires urllib3<2.0.0,>=1.0.0, but you have urllib3 2.1.0 which is incompatible.\u001b[0m\u001b[31m\n",
            "\u001b[0mSuccessfully installed urllib3-2.1.0\n"
          ]
        }
      ]
    },
    {
      "cell_type": "code",
      "source": [
        "pip install pdfminer.six"
      ],
      "metadata": {
        "id": "LIb2HyvAv9Vq",
        "colab": {
          "base_uri": "https://localhost:8080/"
        },
        "outputId": "ac9346be-b821-4d20-ef39-336ee4dbadca"
      },
      "execution_count": null,
      "outputs": [
        {
          "output_type": "stream",
          "name": "stdout",
          "text": [
            "Collecting pdfminer.six\n",
            "  Downloading pdfminer.six-20231228-py3-none-any.whl (5.6 MB)\n",
            "\u001b[2K     \u001b[90m━━━━━━━━━━━━━━━━━━━━━━━━━━━━━━━━━━━━━━━━\u001b[0m \u001b[32m5.6/5.6 MB\u001b[0m \u001b[31m14.0 MB/s\u001b[0m eta \u001b[36m0:00:00\u001b[0m\n",
            "\u001b[?25hRequirement already satisfied: charset-normalizer>=2.0.0 in /usr/local/lib/python3.10/dist-packages (from pdfminer.six) (3.3.2)\n",
            "Requirement already satisfied: cryptography>=36.0.0 in /usr/local/lib/python3.10/dist-packages (from pdfminer.six) (41.0.7)\n",
            "Requirement already satisfied: cffi>=1.12 in /usr/local/lib/python3.10/dist-packages (from cryptography>=36.0.0->pdfminer.six) (1.16.0)\n",
            "Requirement already satisfied: pycparser in /usr/local/lib/python3.10/dist-packages (from cffi>=1.12->cryptography>=36.0.0->pdfminer.six) (2.21)\n",
            "Installing collected packages: pdfminer.six\n",
            "Successfully installed pdfminer.six-20231228\n"
          ]
        }
      ]
    },
    {
      "cell_type": "code",
      "source": [
        "import spacy"
      ],
      "metadata": {
        "id": "swVznUGZjNgs"
      },
      "execution_count": null,
      "outputs": []
    },
    {
      "cell_type": "code",
      "source": [
        "import mimetypes\n",
        "from tika import parser\n",
        "from PyPDF2 import PdfFileReader\n",
        "import re\n",
        "from dateutil.parser import parse\n",
        "from datetime import datetime\n",
        "from datetime import datetime, timedelta"
      ],
      "metadata": {
        "id": "WcQGDQC_k_sT"
      },
      "execution_count": null,
      "outputs": []
    },
    {
      "cell_type": "code",
      "source": [
        "def extract_text(file_path):\n",
        "    mime_type, _ = mimetypes.guess_type(file_path)\n",
        "\n",
        "    if mime_type == 'application/pdf':\n",
        "        file_data = parser.from_file(file_path)\n",
        "        return file_data.get('content', '')\n",
        "    elif mime_type == 'application/vnd.openxmlformats-officedocument.wordprocessingml.document':\n",
        "        # Handle DOCX files using python-docx2txt\n",
        "        return docx2txt.process(file_path)\n",
        "    else:\n",
        "        raise Exception(f\"Unsupported file type: {mime_type}\")"
      ],
      "metadata": {
        "id": "4EULc-nZldq3"
      },
      "execution_count": null,
      "outputs": []
    },
    {
      "cell_type": "code",
      "source": [
        "#Creating a dictionary to store parsed content\n",
        "parsed_content = {}"
      ],
      "metadata": {
        "id": "gganqoY3mOWa"
      },
      "execution_count": null,
      "outputs": []
    },
    {
      "cell_type": "code",
      "source": [
        "file_path = \"/content/Neeraj_Kumar_resume.pdf\"\n",
        "try:\n",
        "    text = extract_text(file_path)\n",
        "    print(text)\n",
        "except Exception as e:\n",
        "    print(f\"Error: {e}\")"
      ],
      "metadata": {
        "id": "EH6BREJGlgLq",
        "colab": {
          "base_uri": "https://localhost:8080/"
        },
        "outputId": "c70d2214-d201-4ab3-8ee0-8172f3313641"
      },
      "execution_count": null,
      "outputs": [
        {
          "output_type": "stream",
          "name": "stderr",
          "text": [
            "2023-12-29 07:48:05,044 [MainThread  ] [INFO ]  Retrieving http://search.maven.org/remotecontent?filepath=org/apache/tika/tika-server-standard/2.6.0/tika-server-standard-2.6.0.jar to /tmp/tika-server.jar.\n",
            "INFO:tika.tika:Retrieving http://search.maven.org/remotecontent?filepath=org/apache/tika/tika-server-standard/2.6.0/tika-server-standard-2.6.0.jar to /tmp/tika-server.jar.\n",
            "2023-12-29 07:48:06,118 [MainThread  ] [INFO ]  Retrieving http://search.maven.org/remotecontent?filepath=org/apache/tika/tika-server-standard/2.6.0/tika-server-standard-2.6.0.jar.md5 to /tmp/tika-server.jar.md5.\n",
            "INFO:tika.tika:Retrieving http://search.maven.org/remotecontent?filepath=org/apache/tika/tika-server-standard/2.6.0/tika-server-standard-2.6.0.jar.md5 to /tmp/tika-server.jar.md5.\n",
            "2023-12-29 07:48:06,465 [MainThread  ] [WARNI]  Failed to see startup log message; retrying...\n",
            "WARNING:tika.tika:Failed to see startup log message; retrying...\n"
          ]
        },
        {
          "output_type": "stream",
          "name": "stdout",
          "text": [
            "\n",
            "\n",
            "\n",
            "\n",
            "\n",
            "\n",
            "\n",
            "\n",
            "\n",
            "\n",
            "\n",
            "\n",
            "\n",
            "\n",
            "\n",
            "\n",
            "\n",
            "\n",
            "\n",
            "\n",
            "\n",
            "\n",
            "\n",
            "\n",
            "\n",
            "\n",
            "\n",
            "\n",
            "\n",
            "\n",
            "\n",
            "\n",
            "Neeraj Kumar \n",
            "Computer Science and Engineering Student \n",
            "I am an outgoing, dedicated, hardworking, and open-minded person. I get across to people and adjust to changes\n",
            "with ease. I believe that a person should work on developing their professional skills and learning new things all the\n",
            "time. Recently I have done on \"Resume Builder Web Application\" project. \n",
            "\n",
            "kumarneerajbhu2018@gmail.com 9771450561 \n",
            "\n",
            "Sagar Group of Institutions-SISTec, opposite International\n",
            "Airport, Gandhi Nagar, Bhopal, Madhya Pradesh 462036,\n",
            "Bhopal, India \n",
            "\n",
            "01 September, 2002 \n",
            "\n",
            "neeraj106.netlify.app/ linkedin.com/in/neeraj-kumar-078946212 \n",
            "\n",
            "neerajkumar106.github.io/Neeraj_Coder \n",
            "\n",
            "EDUCATION \n",
            "B.Tech - Computer Science and Engineering \n",
            "Sagar Group of Institutions - SISTec, Gandhinagar\n",
            "Campus, Bhopal - MP \n",
            "08/2020 - Present,  CGPA:- 8.80 \n",
            "\n",
            "Heritage International School (12th Grade) \n",
            "Daltonganj, Palamu - Jharkhand \n",
            "04/2018 - 04/2020,  Percentage:- 76 % \n",
            "\n",
            "Rotary School Anand Shankar (10th Grade) \n",
            "Daltonganj, Palamu - Jharkhand \n",
            "04/2006 - 04/2018,  Percentage:- 68.20% \n",
            "\n",
            "PERSONAL PROJECTS \n",
            "Resume Builder Web Application Project (07/2023 - 10/2023) \n",
            "\n",
            "The Resume Builder Web Application is a comprehensive tool designed to\n",
            "assist users in creating professional resumes easily and efficiently.   \n",
            "\n",
            "Online Complaint System (08/2022 - 11/2022) \n",
            "In this project every user has different id. The first time id and password will\n",
            "be given by the organization, after that user can change their password as\n",
            "per the requirement.   \n",
            "\n",
            "Hostel Reservation System (01/2023 - 04/2023) \n",
            "Design and development of Online Hostel Reservation System is a web-\n",
            "based platform that allows students to book and pay for accommodations in\n",
            "hostels.   \n",
            "\n",
            "Data Structure (12/2021 - 12/2021) \n",
            "Implemented all the data Structure from Scratch in a single menu driven\n",
            "program and completed 1.9k lines of code in C programming language   \n",
            "\n",
            "Calulator (04/2021 - 04/2021)   \n",
            "Calculator Generated by the help of JAVA \n",
            "\n",
            "INTERNSHIP WORK EXPERIENCE \n",
            "Data Science Department \n",
            "Celebal Technologies Summer Internship'23   \n",
            "06/2023 - 08/2023,  Jaipur, Rajasthan \n",
            "Data science interns assist data scientists in collecting, analyzing, and interpret\n",
            "data sets to drive optimization and improvement of product development. \n",
            "\n",
            "Cyber Security (CS) \n",
            "Internship under IBM SkillsBuild Program on Cyber\n",
            "Security (CS)   \n",
            "06/2023 - 08/2023,  \n",
            "Cybersecurity professionals can learn hands-on training of items such as malware\n",
            "analytics, risk management and penetration testing in a real-world environment. \n",
            "\n",
            "SKILLS \n",
            "\n",
            "C/C++ Python Data Structure HTML CSS \n",
            "\n",
            "JS MySQL DBMS OOPS Bootstrap \n",
            "\n",
            "Machine Learning \n",
            "\n",
            "ACHIEVEMENTS \n",
            "Awarded as the Star performer for Managerial and Leadership\n",
            "skills by the Sagar Group of Institutions \n",
            "\n",
            "Class Representative (CR) (08/2020 - Present) \n",
            "I was Selected as a Class Representative(CR) in Sagar Institute of Science &\n",
            "Technology. \n",
            "\n",
            "Campus Ambassador at Pregrad (06/2023 - Present) \n",
            "I was selected as a Campus Ambassador at Pregrad \n",
            "\n",
            "10.00 SGPA (12/2021 - 12/2021) \n",
            "I got 10 SGPA in 3rd Semester \n",
            "\n",
            "CERTIFICATES \n",
            "Networking Essentials by CISCO (05/2023) \n",
            "\n",
            "Cloud Computing in Coursera (04/2023 - 04/2023)   \n",
            "\n",
            "Machine Learning Course in Coursera (01/2023 - 02/2023)   \n",
            "\n",
            "Data Structure in Coursera (02/2023 - 03/2023)   \n",
            "\n",
            "HackerRank python (Basics) (08/2022)   \n",
            "\n",
            "HackerRank Java (Basics) (07/2022)   \n",
            "\n",
            "Microsoft Learning   \n",
            "\n",
            "Certification of Develop Soft Skills that Industry Demands by\n",
            "TCSION (08/2022) \n",
            "\n",
            "INTERESTS/HOBBIES \n",
            "\n",
            "Logic Develop Problem Solving Comm. Skills \n",
            "\n",
            "Watching Technical Videos Leadership \n",
            "\n",
            "Designing responsive Website Sketching \n",
            "\n",
            "mailto:kumarneerajbhu2018@gmail.com\n",
            "https://neeraj106.netlify.app/\n",
            "https://www.linkedin.com/in/neeraj-kumar-078946212/\n",
            "https://neerajkumar106.github.io/Neeraj_Coder/\n",
            "http://resumebuild.free.nf/\n",
            "https://github.com/Neerajkumar106/Projects/tree/main/Online-Complaint-System/Minor\n",
            "https://github.com/Neerajkumar106/Projects/tree/main/Hostel-Reservation-System\n",
            "https://github.com/Neerajkumar106/All-Data-Structures-in-One\n",
            "https://github.com/Neerajkumar106/Neerajkumar106/blob/master/MyCalc.java\n",
            "https://drive.google.com/file/d/1QP6EC3zh7biKkq8IR6JAv-DL3iCzJnC1/view?usp=sharing\n",
            "https://drive.google.com/file/d/13O0FV0v1eJU72eeQdjG0nZS-b7cw9epk/view?usp=sharing\n",
            "https://www.coursera.org/account/accomplishments/verify/M4D2MN4D72SG\n",
            "https://coursera.org/share/4902b4fa4d38f8c917684439a6a76f84\n",
            "https://www.coursera.org/account/accomplishments/verify/5YGPRE4NG5GD\n",
            "https://www.hackerrank.com/certificates/442af0f3c127\n",
            "https://www.hackerrank.com/certificates/66a6a97527e4\n",
            "https://learn.microsoft.com/en-us/users/neerajkumar-1372/\n",
            "\n",
            "\n"
          ]
        }
      ]
    },
    {
      "cell_type": "markdown",
      "source": [
        "Extracting Name"
      ],
      "metadata": {
        "id": "8qnB3JwfnueO"
      }
    },
    {
      "cell_type": "code",
      "source": [
        "import spacy\n",
        "from spacy.matcher import Matcher\n",
        "nlp = spacy.load('en_core_web_sm')\n",
        "matcher = Matcher(nlp.vocab)"
      ],
      "metadata": {
        "id": "CQHXMZPhnopQ"
      },
      "execution_count": null,
      "outputs": []
    },
    {
      "cell_type": "code",
      "source": [
        "def extract_name(resume_text):\n",
        "    name_pattern = re.compile(r'(?:(?:\\bNAME\\b|\\bFULL\\s*NAME\\b|\\bAPPLICANT\\b|\\bAPPLICANT\\s*NAME\\b|\\bCONTACT\\b)[:|-]?\\s*(.*?)(?=\\n|$)|([A-Z][a-z]+(?:\\s+[A-Z][a-z]+)?))', re.IGNORECASE)\n",
        "    match = name_pattern.search(resume_text)\n",
        "\n",
        "    if match:\n",
        "        return match.group(1) or match.group(2)\n",
        "\n",
        "    return None"
      ],
      "metadata": {
        "id": "vn_GzA9Hnw_f"
      },
      "execution_count": null,
      "outputs": []
    },
    {
      "cell_type": "code",
      "source": [
        "name = extract_name(text)\n",
        "print(name)\n",
        "\n",
        "parsed_content['Name'] =  name"
      ],
      "metadata": {
        "id": "M9xKDboboGhw",
        "colab": {
          "base_uri": "https://localhost:8080/"
        },
        "outputId": "b6c606fc-4458-4ffd-ec1d-c27529903b2a"
      },
      "execution_count": null,
      "outputs": [
        {
          "output_type": "stream",
          "name": "stdout",
          "text": [
            "Neeraj Kumar\n"
          ]
        }
      ]
    },
    {
      "cell_type": "code",
      "source": [
        "parsed_content"
      ],
      "metadata": {
        "id": "0tOQK7jToUfM",
        "colab": {
          "base_uri": "https://localhost:8080/"
        },
        "outputId": "f2ffbb07-4ba6-4f15-8984-be6a3b6893d6"
      },
      "execution_count": null,
      "outputs": [
        {
          "output_type": "execute_result",
          "data": {
            "text/plain": [
              "{'Name': 'Neeraj Kumar'}"
            ]
          },
          "metadata": {},
          "execution_count": 12
        }
      ]
    },
    {
      "cell_type": "code",
      "source": [
        "from flair.models import SequenceTagger\n",
        "tagger = SequenceTagger.load('ner')\n",
        "sentence = Sentence(text)\n",
        "tagger.predict(sentence)\n",
        "print(sentence.to_tagged_string())\n",
        "\n",
        "for entity in sentence.get_spans('ner'):\n",
        "  print(entity)"
      ],
      "metadata": {
        "id": "RqjYwMNYn_eL"
      },
      "execution_count": null,
      "outputs": []
    },
    {
      "cell_type": "code",
      "source": [],
      "metadata": {
        "id": "g3N3gATMsNmU"
      },
      "execution_count": null,
      "outputs": []
    },
    {
      "cell_type": "markdown",
      "source": [
        "Extracting E-Mail from the text"
      ],
      "metadata": {
        "id": "DdRgi581o3dY"
      }
    },
    {
      "cell_type": "code",
      "source": [
        "def get_email_addresses(string):\n",
        "    r = re.compile(r'[\\w\\.-]+@[\\w\\.-]+')\n",
        "    return r.findall(string)"
      ],
      "metadata": {
        "id": "Zzjdq_dZolK6"
      },
      "execution_count": null,
      "outputs": []
    },
    {
      "cell_type": "code",
      "source": [
        "email = get_email_addresses(text)\n",
        "print(email)\n",
        "parsed_content['E-mail'] = email"
      ],
      "metadata": {
        "id": "nMNy7hmgrtxi",
        "colab": {
          "base_uri": "https://localhost:8080/"
        },
        "outputId": "54f2c09f-de99-4f3a-8480-ac36c394a5f6"
      },
      "execution_count": null,
      "outputs": [
        {
          "output_type": "stream",
          "name": "stdout",
          "text": [
            "['kumarneerajbhu2018@gmail.com', 'kumarneerajbhu2018@gmail.com']\n"
          ]
        }
      ]
    },
    {
      "cell_type": "code",
      "source": [
        "parsed_content"
      ],
      "metadata": {
        "id": "jT9wWD9gsOlD",
        "colab": {
          "base_uri": "https://localhost:8080/"
        },
        "outputId": "a1fe12f5-2232-438b-9a11-22ecac40e5a8"
      },
      "execution_count": null,
      "outputs": [
        {
          "output_type": "execute_result",
          "data": {
            "text/plain": [
              "{'Name': 'Neeraj Kumar',\n",
              " 'E-mail': ['kumarneerajbhu2018@gmail.com', 'kumarneerajbhu2018@gmail.com']}"
            ]
          },
          "metadata": {},
          "execution_count": 22
        }
      ]
    },
    {
      "cell_type": "markdown",
      "source": [
        "getting skills"
      ],
      "metadata": {
        "id": "JTkAKEQlt-zU"
      }
    },
    {
      "cell_type": "code",
      "source": [
        "def extract_text_from_pdf(pdf_path):\n",
        "    return extract_text(pdf_path)\n",
        "\n",
        "def extract_skills_from_resume(text, skills_list):\n",
        "    skills = []\n",
        "\n",
        "    # Search for skills in the resume text\n",
        "    for skill in skills_list:\n",
        "        pattern = r\"\\b{}\\b\".format(re.escape(skill))\n",
        "        match = re.search(pattern, text, re.IGNORECASE)\n",
        "        if match:\n",
        "            skills.append(skill)\n",
        "\n",
        "    return skills\n",
        "\n",
        "if __name__ == '__main__':\n",
        "\n",
        "    # List of predefined skills\n",
        "    skills_list = ['Python', 'Data Analysis', 'Machine Learning', 'Communication', 'Project Management', 'Deep Learning', 'SQL', 'Tableau', 'Deep learning',\n",
        "                   'Computer Vision', 'HTML','CSS','Javascript','PHP','Bootstrap','Node.js','ReactJs','MongoDB','C' , 'C++','Wordpress','Backend','Statistics'\n",
        "                   'MySql','Tensorflow','PyTorch','Django']\n",
        "\n",
        "    extracted_skills = extract_skills_from_resume(text, skills_list)\n",
        "\n",
        "    if extracted_skills:\n",
        "        print(\"Skills:\", extracted_skills)\n",
        "    else:\n",
        "        print(\"No skills found\")\n"
      ],
      "metadata": {
        "id": "tYgax3IesTzj",
        "colab": {
          "base_uri": "https://localhost:8080/"
        },
        "outputId": "58a9b356-9b45-4ba7-ed57-4a01944fef4c"
      },
      "execution_count": null,
      "outputs": [
        {
          "output_type": "stream",
          "name": "stdout",
          "text": [
            "Skills: ['Python', 'Machine Learning', 'HTML', 'CSS', 'Bootstrap', 'C']\n"
          ]
        }
      ]
    },
    {
      "cell_type": "code",
      "source": [
        "parsed_content['Skills'] = extracted_skills"
      ],
      "metadata": {
        "id": "r3bKhSAVuBXv"
      },
      "execution_count": null,
      "outputs": []
    },
    {
      "cell_type": "code",
      "source": [
        "parsed_content"
      ],
      "metadata": {
        "id": "sRnSVRMpuM5t",
        "colab": {
          "base_uri": "https://localhost:8080/"
        },
        "outputId": "0de27d6e-e001-4cbe-d405-716449b4e389"
      },
      "execution_count": null,
      "outputs": [
        {
          "output_type": "execute_result",
          "data": {
            "text/plain": [
              "{'Name': 'Neeraj Kumar',\n",
              " 'E-mail': ['kumarneerajbhu2018@gmail.com', 'kumarneerajbhu2018@gmail.com'],\n",
              " 'Skills': ['Python', 'Machine Learning', 'HTML', 'CSS', 'Bootstrap', 'C']}"
            ]
          },
          "metadata": {},
          "execution_count": 17
        }
      ]
    },
    {
      "cell_type": "markdown",
      "source": [
        "Extarcting Number"
      ],
      "metadata": {
        "id": "dGwk2cV-1zaW"
      }
    },
    {
      "cell_type": "code",
      "source": [
        "def get_phone_numbers(string):\n",
        "    r = re.compile(pattern = r\"\\b(?:\\+?\\d{1,3}[-.\\s]?)?\\(?\\d{3}\\)?[-.\\s]?\\d{3}[-.\\s]?\\d{4}\\b\")\n",
        "    phone_numbers = r.findall(string)\n",
        "    return [re.sub(r'\\D', '', num) for num in phone_numbers]"
      ],
      "metadata": {
        "id": "kCXuc9Rv0ENy"
      },
      "execution_count": null,
      "outputs": []
    },
    {
      "cell_type": "code",
      "source": [
        "phone_number= get_phone_numbers(text)\n",
        "if len(phone_number) <= 10:\n",
        "    print(phone_number)"
      ],
      "metadata": {
        "id": "bfmnC2Fx4NUJ",
        "colab": {
          "base_uri": "https://localhost:8080/"
        },
        "outputId": "482d2263-ef9f-4f63-cab4-01430b640c5f"
      },
      "execution_count": null,
      "outputs": [
        {
          "output_type": "stream",
          "name": "stdout",
          "text": [
            "['9771450561']\n"
          ]
        }
      ]
    },
    {
      "cell_type": "code",
      "source": [
        "parsed_content['Phone number'] = phone_number\n",
        "parsed_content"
      ],
      "metadata": {
        "id": "z9Eezo1F4NXv",
        "colab": {
          "base_uri": "https://localhost:8080/"
        },
        "outputId": "e20162ae-1c5c-44c3-e3f0-4499bfdd507a"
      },
      "execution_count": null,
      "outputs": [
        {
          "output_type": "execute_result",
          "data": {
            "text/plain": [
              "{'Name': 'Neeraj Kumar',\n",
              " 'E-mail': ['kumarneerajbhu2018@gmail.com', 'kumarneerajbhu2018@gmail.com'],\n",
              " 'Skills': ['Python', 'Machine Learning', 'HTML', 'CSS', 'Bootstrap', 'C'],\n",
              " 'Phone number': ['9771450561']}"
            ]
          },
          "metadata": {},
          "execution_count": 20
        }
      ]
    },
    {
      "cell_type": "markdown",
      "source": [
        "Extract Education"
      ],
      "metadata": {
        "id": "VhjeuPIuHtdQ"
      }
    },
    {
      "cell_type": "code",
      "source": [
        "def extract_education(resume_corpus):\n",
        "    # Use regex to extract the education section\n",
        "    education_match = re.search(r'EDUCATION(.*?)PROJECTS', resume_corpus, re.DOTALL)\n",
        "\n",
        "    if education_match:\n",
        "        education_section = education_match.group(1).strip()\n",
        "        return education_section\n",
        "\n",
        "    return None"
      ],
      "metadata": {
        "id": "C4bcc0BzEjfn"
      },
      "execution_count": null,
      "outputs": []
    },
    {
      "cell_type": "code",
      "source": [
        "education_section = extract_education(text)\n",
        "\n",
        "if education_section:\n",
        "    print(education_section)\n",
        "else:\n",
        "    print(\"Education section not found.\")\n"
      ],
      "metadata": {
        "id": "yUs9odb3EjjC",
        "colab": {
          "base_uri": "https://localhost:8080/"
        },
        "outputId": "4a0b7c3f-16e7-4b80-d7c1-70dd3fe678ed"
      },
      "execution_count": null,
      "outputs": [
        {
          "output_type": "stream",
          "name": "stdout",
          "text": [
            "B.Tech - Computer Science and Engineering \n",
            "Sagar Group of Institutions - SISTec, Gandhinagar\n",
            "Campus, Bhopal - MP \n",
            "08/2020 - Present,  CGPA:- 8.80 \n",
            "\n",
            "Heritage International School (12th Grade) \n",
            "Daltonganj, Palamu - Jharkhand \n",
            "04/2018 - 04/2020,  Percentage:- 76 % \n",
            "\n",
            "Rotary School Anand Shankar (10th Grade) \n",
            "Daltonganj, Palamu - Jharkhand \n",
            "04/2006 - 04/2018,  Percentage:- 68.20% \n",
            "\n",
            "PERSONAL\n"
          ]
        }
      ]
    },
    {
      "cell_type": "code",
      "source": [
        "parsed_content['Education'] = education_section\n",
        "parsed_content"
      ],
      "metadata": {
        "id": "W5qCp4GgE_I_",
        "colab": {
          "base_uri": "https://localhost:8080/"
        },
        "outputId": "8f77ad3c-c5e9-441a-e4b6-07410770a70e"
      },
      "execution_count": null,
      "outputs": [
        {
          "output_type": "execute_result",
          "data": {
            "text/plain": [
              "{'Name': 'Neeraj Kumar',\n",
              " 'E-mail': ['kumarneerajbhu2018@gmail.com', 'kumarneerajbhu2018@gmail.com'],\n",
              " 'Skills': ['Python', 'Machine Learning', 'HTML', 'CSS', 'Bootstrap', 'C'],\n",
              " 'Phone number': ['9771450561'],\n",
              " 'Education': 'B.Tech - Computer Science and Engineering \\nSagar Group of Institutions - SISTec, Gandhinagar\\nCampus, Bhopal - MP \\n08/2020 - Present,  CGPA:- 8.80 \\n\\nHeritage International School (12th Grade) \\nDaltonganj, Palamu - Jharkhand \\n04/2018 - 04/2020,  Percentage:- 76 % \\n\\nRotary School Anand Shankar (10th Grade) \\nDaltonganj, Palamu - Jharkhand \\n04/2006 - 04/2018,  Percentage:- 68.20% \\n\\nPERSONAL'}"
            ]
          },
          "metadata": {},
          "execution_count": 23
        }
      ]
    },
    {
      "cell_type": "markdown",
      "source": [
        "Experience\n"
      ],
      "metadata": {
        "id": "iUiOftKHVwKP"
      }
    },
    {
      "cell_type": "code",
      "source": [
        "def extract_experience(resume_text):\n",
        "    nlp = spacy.load('en_core_web_sm')\n",
        "\n",
        "    doc = nlp(resume_text)\n",
        "\n",
        "    experience_periods = []\n",
        "    current_date = datetime.now()\n",
        "\n",
        "    # Keywords associated with experience sections\n",
        "    experience_keywords = ['EXPERIENCE', 'INTERNSHIP', 'WORK EXPERIENCE', 'EMPLOYMENT']\n",
        "\n",
        "    for ent in doc.ents:\n",
        "        if ent.label_ == 'DATE':\n",
        "            try:\n",
        "                # Attempt to parse as 'mm/yyyy'\n",
        "                date_value = datetime.strptime(ent.text, '%m/%Y')\n",
        "                experience_periods.append(f\"{date_value.strftime('%m/%Y')} - Present\")\n",
        "            except ValueError:\n",
        "                # If parsing as 'mm/yyyy' fails, check for numerical expressions\n",
        "                numerical_values = [int(match.group()) for match in re.finditer(r'\\b\\d+\\b', ent.text)]\n",
        "\n",
        "                # Separate month and year values\n",
        "                months = sum(num for num in numerical_values if 1 <= num <= 12)\n",
        "                years = sum(num for num in numerical_values if num > 12)\n",
        "\n",
        "                # Add to experience_periods\n",
        "                if years > 0 or months > 0:\n",
        "                    try:\n",
        "                        start_date = current_date - timedelta(days=(years * 365 + months * 30))\n",
        "                        experience_periods.append(f\"{start_date.strftime('%m/%Y')} - Present\")\n",
        "                    except OverflowError:\n",
        "                        # Handle overflow error by setting the start date to a default value\n",
        "                        start_date = datetime(1900, 1, 1)\n",
        "                        experience_periods.append(f\"{start_date.strftime('%m/%Y')} - Present\")\n",
        "\n",
        "    return experience_periods\n"
      ],
      "metadata": {
        "id": "bkUfJJgJISPT"
      },
      "execution_count": null,
      "outputs": []
    },
    {
      "cell_type": "code",
      "source": [
        "experience_info = extract_experience(text)\n",
        "print(experience_info)"
      ],
      "metadata": {
        "id": "UA_7eE2PISjM",
        "colab": {
          "base_uri": "https://localhost:8080/"
        },
        "outputId": "94768171-7317-45bb-f5bf-bfe9baa5543a"
      },
      "execution_count": null,
      "outputs": [
        {
          "output_type": "stream",
          "name": "stdout",
          "text": [
            "['01/1900 - Present', '03/23 - Present', '01/1900 - Present']\n"
          ]
        }
      ]
    },
    {
      "cell_type": "code",
      "source": [
        "parsed_content['Year_of_Experience'] = experience_info\n",
        "parsed_content"
      ],
      "metadata": {
        "id": "fP9-rAa2ajHx",
        "colab": {
          "base_uri": "https://localhost:8080/"
        },
        "outputId": "b80e70e0-fd6e-41bb-b6a5-a4998f318a45"
      },
      "execution_count": null,
      "outputs": [
        {
          "output_type": "execute_result",
          "data": {
            "text/plain": [
              "{'Name': 'Neeraj Kumar',\n",
              " 'E-mail': ['kumarneerajbhu2018@gmail.com', 'kumarneerajbhu2018@gmail.com'],\n",
              " 'Skills': ['Python', 'Machine Learning', 'HTML', 'CSS', 'Bootstrap', 'C'],\n",
              " 'Phone number': ['9771450561'],\n",
              " 'Education': 'B.Tech - Computer Science and Engineering \\nSagar Group of Institutions - SISTec, Gandhinagar\\nCampus, Bhopal - MP \\n08/2020 - Present,  CGPA:- 8.80 \\n\\nHeritage International School (12th Grade) \\nDaltonganj, Palamu - Jharkhand \\n04/2018 - 04/2020,  Percentage:- 76 % \\n\\nRotary School Anand Shankar (10th Grade) \\nDaltonganj, Palamu - Jharkhand \\n04/2006 - 04/2018,  Percentage:- 68.20% \\n\\nPERSONAL',\n",
              " 'Year_of_Experience': ['01/1900 - Present',\n",
              "  '03/23 - Present',\n",
              "  '01/1900 - Present']}"
            ]
          },
          "metadata": {},
          "execution_count": 30
        }
      ]
    },
    {
      "cell_type": "markdown",
      "source": [
        "Certificates"
      ],
      "metadata": {
        "id": "nVWQuQUEBW1_"
      }
    },
    {
      "cell_type": "code",
      "source": [
        "# Define a regular expression pattern to capture the \"CERTIFICATES\" section\n",
        "certificate_section_pattern = r\"CERTIFICATES([\\s\\S]*?)(?:\\n\\n[A-Z]+\\n|$)\"\n",
        "\n",
        "# Use re.search to find the certificate section in the text\n",
        "certificate_section_match = re.search(certificate_section_pattern, text)\n",
        "\n",
        "# Extract the text of the certificate section\n",
        "certificates_text = certificate_section_match.group(1)\n",
        "# Exclude lines containing \"Personal Project\"\n",
        "certificates_text = re.sub(r'\\bPersonal Project\\b', '', certificates_text)\n",
        "\n",
        "# Define a regular expression pattern to extract certificate names\n",
        "certificate_names_pattern = r\"([A-Za-z\\s]+) \\(\\d{2}/\\d{4}(?: - \\d{2}/\\d{4})?\\)\"\n",
        "\n",
        "# Use re.findall to find all occurrences of the pattern in the certificates text\n",
        "certificate_names = re.findall(certificate_names_pattern, certificates_text)\n",
        "\n",
        "# Print the extracted certificate names\n",
        "for certificate in certificate_names:\n",
        "    print(certificate.strip())"
      ],
      "metadata": {
        "id": "0jAehuP8A4cR",
        "colab": {
          "base_uri": "https://localhost:8080/"
        },
        "outputId": "be4fcad0-b1fb-4e72-8abd-21263c7c1d5c"
      },
      "execution_count": null,
      "outputs": [
        {
          "output_type": "stream",
          "name": "stdout",
          "text": [
            "Networking Essentials by CISCO\n",
            "Cloud Computing in Coursera\n",
            "Machine Learning Course in Coursera\n",
            "Data Structure in Coursera\n",
            "Microsoft Learning   \n",
            "\n",
            "Certification of Develop Soft Skills that Industry Demands by\n",
            "TCSION\n"
          ]
        }
      ]
    },
    {
      "cell_type": "code",
      "source": [
        "parsed_content['Certificate'] = certificate_names\n",
        "parsed_content"
      ],
      "metadata": {
        "id": "-N7j5tqfA4o6",
        "colab": {
          "base_uri": "https://localhost:8080/"
        },
        "outputId": "d054e370-bd8a-46bf-83f3-3c9206a642c1"
      },
      "execution_count": null,
      "outputs": [
        {
          "output_type": "execute_result",
          "data": {
            "text/plain": [
              "{'Name': 'Neeraj Kumar',\n",
              " 'E-mail': ['kumarneerajbhu2018@gmail.com', 'kumarneerajbhu2018@gmail.com'],\n",
              " 'Skills': ['Python', 'Machine Learning', 'HTML', 'CSS', 'Bootstrap', 'C'],\n",
              " 'Phone number': ['9771450561'],\n",
              " 'Education': 'B.Tech - Computer Science and Engineering \\nSagar Group of Institutions - SISTec, Gandhinagar\\nCampus, Bhopal - MP \\n08/2020 - Present,  CGPA:- 8.80 \\n\\nHeritage International School (12th Grade) \\nDaltonganj, Palamu - Jharkhand \\n04/2018 - 04/2020,  Percentage:- 76 % \\n\\nRotary School Anand Shankar (10th Grade) \\nDaltonganj, Palamu - Jharkhand \\n04/2006 - 04/2018,  Percentage:- 68.20% \\n\\nPERSONAL',\n",
              " 'Year_of_Experience': ['01/1900 - Present',\n",
              "  '03/23 - Present',\n",
              "  '01/1900 - Present'],\n",
              " 'Certificate': [' \\nNetworking Essentials by CISCO',\n",
              "  ' \\n\\nCloud Computing in Coursera',\n",
              "  '   \\n\\nMachine Learning Course in Coursera',\n",
              "  '   \\n\\nData Structure in Coursera',\n",
              "  '   \\n\\nMicrosoft Learning   \\n\\nCertification of Develop Soft Skills that Industry Demands by\\nTCSION']}"
            ]
          },
          "metadata": {},
          "execution_count": 32
        }
      ]
    },
    {
      "cell_type": "markdown",
      "source": [
        "List of Keywords to identify 'Headings' in the Resume text"
      ],
      "metadata": {
        "id": "KwD-yDQE5cap"
      }
    },
    {
      "cell_type": "code",
      "source": [
        "Keywords = [\"summary\",\n",
        "            \"accomplishments\",\n",
        "            \"executive profile\",\n",
        "            \"professional profile\",\n",
        "            \"personal profile\",\n",
        "            \"work background\",\n",
        "            \"academic profile\",\n",
        "            \"other activities\",\n",
        "            \"qualifications\",\n",
        "            \"experience\",\n",
        "            \"interests\",\n",
        "            \"achievements\",\n",
        "            \"publications\",\n",
        "            \"publication\",\n",
        "            \"certifications\",\n",
        "            \"workshops\",\n",
        "            \"projects\",\n",
        "            \"internships\",\n",
        "            \"trainings\",\n",
        "            \"hobbies\",\n",
        "            \"overview\",\n",
        "            \"objective\",\n",
        "            \"position of responsibility\",\n",
        "            \"jobs\"]"
      ],
      "metadata": {
        "id": "S7ADr2vM4b_H"
      },
      "execution_count": null,
      "outputs": []
    },
    {
      "cell_type": "code",
      "source": [
        "#Cleaning the resume text\n",
        "def preprocess_text(text):\n",
        "    text = text.replace(\"\\n\", \" \")\n",
        "    text = re.sub('[^a-zA-Z0-9]', ' ', text)\n",
        "    text = re.sub('\\W+', ' ', text)\n",
        "    text = text.lower()\n",
        "\n",
        "    return text"
      ],
      "metadata": {
        "id": "nsYeg3AO5hia"
      },
      "execution_count": null,
      "outputs": []
    },
    {
      "cell_type": "code",
      "source": [
        "# Example usage:\n",
        "processed_text = preprocess_text(text)\n",
        "print(processed_text)"
      ],
      "metadata": {
        "id": "19UsBS715qtt",
        "colab": {
          "base_uri": "https://localhost:8080/"
        },
        "outputId": "aeab3b09-3c2d-40c2-9842-61540e8715f4"
      },
      "execution_count": null,
      "outputs": [
        {
          "output_type": "stream",
          "name": "stdout",
          "text": [
            " neeraj kumar computer science and engineering student i am an outgoing dedicated hardworking and open minded person i get across to people and adjust to changes with ease i believe that a person should work on developing their professional skills and learning new things all the time recently i have done on resume builder web application project kumarneerajbhu2018 gmail com 9771450561 sagar group of institutions sistec opposite international airport gandhi nagar bhopal madhya pradesh 462036 bhopal india 01 september 2002 neeraj106 netlify app linkedin com in neeraj kumar 078946212 neerajkumar106 github io neeraj coder education b tech computer science and engineering sagar group of institutions sistec gandhinagar campus bhopal mp 08 2020 present cgpa 8 80 heritage international school 12th grade daltonganj palamu jharkhand 04 2018 04 2020 percentage 76 rotary school anand shankar 10th grade daltonganj palamu jharkhand 04 2006 04 2018 percentage 68 20 personal projects resume builder web application project 07 2023 10 2023 the resume builder web application is a comprehensive tool designed to assist users in creating professional resumes easily and efficiently online complaint system 08 2022 11 2022 in this project every user has different id the first time id and password will be given by the organization after that user can change their password as per the requirement hostel reservation system 01 2023 04 2023 design and development of online hostel reservation system is a web based platform that allows students to book and pay for accommodations in hostels data structure 12 2021 12 2021 implemented all the data structure from scratch in a single menu driven program and completed 1 9k lines of code in c programming language calulator 04 2021 04 2021 calculator generated by the help of java internship work experience data science department celebal technologies summer internship 23 06 2023 08 2023 jaipur rajasthan data science interns assist data scientists in collecting analyzing and interpret data sets to drive optimization and improvement of product development cyber security cs internship under ibm skillsbuild program on cyber security cs 06 2023 08 2023 cybersecurity professionals can learn hands on training of items such as malware analytics risk management and penetration testing in a real world environment skills c c python data structure html css js mysql dbms oops bootstrap machine learning achievements awarded as the star performer for managerial and leadership skills by the sagar group of institutions class representative cr 08 2020 present i was selected as a class representative cr in sagar institute of science technology campus ambassador at pregrad 06 2023 present i was selected as a campus ambassador at pregrad 10 00 sgpa 12 2021 12 2021 i got 10 sgpa in 3rd semester certificates networking essentials by cisco 05 2023 cloud computing in coursera 04 2023 04 2023 machine learning course in coursera 01 2023 02 2023 data structure in coursera 02 2023 03 2023 hackerrank python basics 08 2022 hackerrank java basics 07 2022 microsoft learning certification of develop soft skills that industry demands by tcsion 08 2022 interests hobbies logic develop problem solving comm skills watching technical videos leadership designing responsive website sketching mailto kumarneerajbhu2018 gmail com https neeraj106 netlify app https www linkedin com in neeraj kumar 078946212 https neerajkumar106 github io neeraj coder http resumebuild free nf https github com neerajkumar106 projects tree main online complaint system minor https github com neerajkumar106 projects tree main hostel reservation system https github com neerajkumar106 all data structures in one https github com neerajkumar106 neerajkumar106 blob master mycalc java https drive google com file d 1qp6ec3zh7bikkq8ir6jav dl3iczjnc1 view usp sharing https drive google com file d 13o0fv0v1eju72eeqdjg0nzs b7cw9epk view usp sharing https www coursera org account accomplishments verify m4d2mn4d72sg https coursera org share 4902b4fa4d38f8c917684439a6a76f84 https www coursera org account accomplishments verify 5ygpre4ng5gd https www hackerrank com certificates 442af0f3c127 https www hackerrank com certificates 66a6a97527e4 https learn microsoft com en us users neerajkumar 1372 \n"
          ]
        }
      ]
    },
    {
      "cell_type": "code",
      "source": [
        "processed_text"
      ],
      "metadata": {
        "id": "ShXjZvlv9NuO",
        "colab": {
          "base_uri": "https://localhost:8080/",
          "height": 218
        },
        "outputId": "f9279e8c-7362-4fc5-fd39-335be47b4651"
      },
      "execution_count": null,
      "outputs": [
        {
          "output_type": "execute_result",
          "data": {
            "text/plain": [
              "' neeraj kumar computer science and engineering student i am an outgoing dedicated hardworking and open minded person i get across to people and adjust to changes with ease i believe that a person should work on developing their professional skills and learning new things all the time recently i have done on resume builder web application project kumarneerajbhu2018 gmail com 9771450561 sagar group of institutions sistec opposite international airport gandhi nagar bhopal madhya pradesh 462036 bhopal india 01 september 2002 neeraj106 netlify app linkedin com in neeraj kumar 078946212 neerajkumar106 github io neeraj coder education b tech computer science and engineering sagar group of institutions sistec gandhinagar campus bhopal mp 08 2020 present cgpa 8 80 heritage international school 12th grade daltonganj palamu jharkhand 04 2018 04 2020 percentage 76 rotary school anand shankar 10th grade daltonganj palamu jharkhand 04 2006 04 2018 percentage 68 20 personal projects resume builder web application project 07 2023 10 2023 the resume builder web application is a comprehensive tool designed to assist users in creating professional resumes easily and efficiently online complaint system 08 2022 11 2022 in this project every user has different id the first time id and password will be given by the organization after that user can change their password as per the requirement hostel reservation system 01 2023 04 2023 design and development of online hostel reservation system is a web based platform that allows students to book and pay for accommodations in hostels data structure 12 2021 12 2021 implemented all the data structure from scratch in a single menu driven program and completed 1 9k lines of code in c programming language calulator 04 2021 04 2021 calculator generated by the help of java internship work experience data science department celebal technologies summer internship 23 06 2023 08 2023 jaipur rajasthan data science interns assist data scientists in collecting analyzing and interpret data sets to drive optimization and improvement of product development cyber security cs internship under ibm skillsbuild program on cyber security cs 06 2023 08 2023 cybersecurity professionals can learn hands on training of items such as malware analytics risk management and penetration testing in a real world environment skills c c python data structure html css js mysql dbms oops bootstrap machine learning achievements awarded as the star performer for managerial and leadership skills by the sagar group of institutions class representative cr 08 2020 present i was selected as a class representative cr in sagar institute of science technology campus ambassador at pregrad 06 2023 present i was selected as a campus ambassador at pregrad 10 00 sgpa 12 2021 12 2021 i got 10 sgpa in 3rd semester certificates networking essentials by cisco 05 2023 cloud computing in coursera 04 2023 04 2023 machine learning course in coursera 01 2023 02 2023 data structure in coursera 02 2023 03 2023 hackerrank python basics 08 2022 hackerrank java basics 07 2022 microsoft learning certification of develop soft skills that industry demands by tcsion 08 2022 interests hobbies logic develop problem solving comm skills watching technical videos leadership designing responsive website sketching mailto kumarneerajbhu2018 gmail com https neeraj106 netlify app https www linkedin com in neeraj kumar 078946212 https neerajkumar106 github io neeraj coder http resumebuild free nf https github com neerajkumar106 projects tree main online complaint system minor https github com neerajkumar106 projects tree main hostel reservation system https github com neerajkumar106 all data structures in one https github com neerajkumar106 neerajkumar106 blob master mycalc java https drive google com file d 1qp6ec3zh7bikkq8ir6jav dl3iczjnc1 view usp sharing https drive google com file d 13o0fv0v1eju72eeqdjg0nzs b7cw9epk view usp sharing https www coursera org account accomplishments verify m4d2mn4d72sg https coursera org share 4902b4fa4d38f8c917684439a6a76f84 https www coursera org account accomplishments verify 5ygpre4ng5gd https www hackerrank com certificates 442af0f3c127 https www hackerrank com certificates 66a6a97527e4 https learn microsoft com en us users neerajkumar 1372 '"
            ],
            "application/vnd.google.colaboratory.intrinsic+json": {
              "type": "string"
            }
          },
          "metadata": {},
          "execution_count": 36
        }
      ]
    },
    {
      "cell_type": "markdown",
      "source": [
        "Finding the headings and corresponding indices"
      ],
      "metadata": {
        "id": "jm_RyVSC6MR4"
      }
    },
    {
      "cell_type": "code",
      "source": [
        "content = {}\n",
        "indices = []\n",
        "keys = []\n",
        "for key in Keywords:\n",
        "    try:\n",
        "        content[key] = text[text.index(key) + len(key):]\n",
        "        indices.append(text.index(key))\n",
        "        keys.append(key)\n",
        "    except:\n",
        "        pass"
      ],
      "metadata": {
        "id": "qaDbSEaR5-ys"
      },
      "execution_count": null,
      "outputs": []
    },
    {
      "cell_type": "code",
      "source": [
        "#Sorting the indices\n",
        "zipped_lists = zip(indices, keys)\n",
        "sorted_pairs = sorted(zipped_lists)\n",
        "sorted_pairs\n",
        "\n",
        "tuples = zip(*sorted_pairs)\n",
        "indices, keys = [ list(tuple) for tuple in  tuples]\n",
        "keys"
      ],
      "metadata": {
        "id": "vviQgzI46F7L",
        "colab": {
          "base_uri": "https://localhost:8080/"
        },
        "outputId": "3946a9d3-0232-4281-b3cd-d3d5c697443b"
      },
      "execution_count": null,
      "outputs": [
        {
          "output_type": "execute_result",
          "data": {
            "text/plain": [
              "['accomplishments']"
            ]
          },
          "metadata": {},
          "execution_count": 38
        }
      ]
    },
    {
      "cell_type": "code",
      "source": [
        "#Keeping the required content and removing the redundant part\n",
        "content = []\n",
        "for idx in range(len(indices)):\n",
        "    if idx != len(indices)-1:\n",
        "        content.append(text[indices[idx]: indices[idx+1]])\n",
        "    else:\n",
        "        content.append(text[indices[idx]: ])"
      ],
      "metadata": {
        "id": "evyCYjpz6Oqa"
      },
      "execution_count": null,
      "outputs": []
    },
    {
      "cell_type": "markdown",
      "source": [
        "Storing the parsed content in the dictionary"
      ],
      "metadata": {
        "id": "rVPYdtzI6vVA"
      }
    },
    {
      "cell_type": "code",
      "source": [
        "for i in range(len(indices)):\n",
        "    parsed_content[keys[i]] = content[i]"
      ],
      "metadata": {
        "id": "xMUcVQZO6mUJ"
      },
      "execution_count": null,
      "outputs": []
    },
    {
      "cell_type": "code",
      "source": [
        "parsed_content"
      ],
      "metadata": {
        "id": "2hLwommu6n7K",
        "colab": {
          "base_uri": "https://localhost:8080/"
        },
        "outputId": "fd2f0076-8590-4ea7-edf6-44581f93152f"
      },
      "execution_count": null,
      "outputs": [
        {
          "output_type": "execute_result",
          "data": {
            "text/plain": [
              "{'Name': 'Neeraj Kumar',\n",
              " 'E-mail': ['kumarneerajbhu2018@gmail.com', 'kumarneerajbhu2018@gmail.com'],\n",
              " 'Skills': ['Python', 'Machine Learning', 'HTML', 'CSS', 'Bootstrap', 'C'],\n",
              " 'Phone number': ['9771450561'],\n",
              " 'Education': 'B.Tech - Computer Science and Engineering \\nSagar Group of Institutions - SISTec, Gandhinagar\\nCampus, Bhopal - MP \\n08/2020 - Present,  CGPA:- 8.80 \\n\\nHeritage International School (12th Grade) \\nDaltonganj, Palamu - Jharkhand \\n04/2018 - 04/2020,  Percentage:- 76 % \\n\\nRotary School Anand Shankar (10th Grade) \\nDaltonganj, Palamu - Jharkhand \\n04/2006 - 04/2018,  Percentage:- 68.20% \\n\\nPERSONAL',\n",
              " 'Year_of_Experience': ['01/1900 - Present',\n",
              "  '03/23 - Present',\n",
              "  '01/1900 - Present'],\n",
              " 'Certificate': [' \\nNetworking Essentials by CISCO',\n",
              "  ' \\n\\nCloud Computing in Coursera',\n",
              "  '   \\n\\nMachine Learning Course in Coursera',\n",
              "  '   \\n\\nData Structure in Coursera',\n",
              "  '   \\n\\nMicrosoft Learning   \\n\\nCertification of Develop Soft Skills that Industry Demands by\\nTCSION'],\n",
              " 'accomplishments': 'accomplishments/verify/M4D2MN4D72SG\\nhttps://coursera.org/share/4902b4fa4d38f8c917684439a6a76f84\\nhttps://www.coursera.org/account/accomplishments/verify/5YGPRE4NG5GD\\nhttps://www.hackerrank.com/certificates/442af0f3c127\\nhttps://www.hackerrank.com/certificates/66a6a97527e4\\nhttps://learn.microsoft.com/en-us/users/neerajkumar-1372/\\n\\n'}"
            ]
          },
          "metadata": {},
          "execution_count": 41
        }
      ]
    },
    {
      "cell_type": "code",
      "source": [
        "import csv"
      ],
      "metadata": {
        "id": "kcIH2tC361CE"
      },
      "execution_count": null,
      "outputs": []
    },
    {
      "cell_type": "code",
      "source": [
        "csv_file = 'parsed_resume.csv'\n",
        "\n",
        "# Write the parsed content to a CSV file\n",
        "with open(csv_file, 'w', newline='') as file:\n",
        "    writer = csv.writer(file)\n",
        "\n",
        "    # Write header\n",
        "    writer.writerow(parsed_content.keys())\n",
        "\n",
        "    # Write data\n",
        "    writer.writerow(parsed_content.values())"
      ],
      "metadata": {
        "id": "DAPHh9JA7Z2J"
      },
      "execution_count": null,
      "outputs": []
    },
    {
      "cell_type": "code",
      "source": [
        "# Define the CSV file name\n",
        "csv_file = 'parsed_resume.csv'\n",
        "\n",
        "# Read the CSV file\n",
        "with open(csv_file, 'r') as file:\n",
        "    reader = csv.reader(file)\n",
        "\n",
        "    # Read the header\n",
        "    header = next(reader)\n",
        "\n",
        "    # Read the data\n",
        "    data = next(reader)\n",
        "\n",
        "# Print the header\n",
        "print(\"Header:\", header)\n",
        "\n",
        "# Print the data\n",
        "print(\"Data:\", data)\n"
      ],
      "metadata": {
        "id": "ntL37eMT7f1m",
        "colab": {
          "base_uri": "https://localhost:8080/"
        },
        "outputId": "f9daa974-2cc9-4a62-d709-849cfda30ead"
      },
      "execution_count": null,
      "outputs": [
        {
          "output_type": "stream",
          "name": "stdout",
          "text": [
            "Header: ['Name', 'E-mail', 'Skills', 'Phone number', 'Education', 'Year_of_Experience', 'Certificate', 'accomplishments']\n",
            "Data: ['Neeraj Kumar', \"['kumarneerajbhu2018@gmail.com', 'kumarneerajbhu2018@gmail.com']\", \"['Python', 'Machine Learning', 'HTML', 'CSS', 'Bootstrap', 'C']\", \"['9771450561']\", 'B.Tech - Computer Science and Engineering \\nSagar Group of Institutions - SISTec, Gandhinagar\\nCampus, Bhopal - MP \\n08/2020 - Present,  CGPA:- 8.80 \\n\\nHeritage International School (12th Grade) \\nDaltonganj, Palamu - Jharkhand \\n04/2018 - 04/2020,  Percentage:- 76 % \\n\\nRotary School Anand Shankar (10th Grade) \\nDaltonganj, Palamu - Jharkhand \\n04/2006 - 04/2018,  Percentage:- 68.20% \\n\\nPERSONAL', \"['01/1900 - Present', '03/23 - Present', '01/1900 - Present']\", \"[' \\\\nNetworking Essentials by CISCO', ' \\\\n\\\\nCloud Computing in Coursera', '   \\\\n\\\\nMachine Learning Course in Coursera', '   \\\\n\\\\nData Structure in Coursera', '   \\\\n\\\\nMicrosoft Learning   \\\\n\\\\nCertification of Develop Soft Skills that Industry Demands by\\\\nTCSION']\", 'accomplishments/verify/M4D2MN4D72SG\\nhttps://coursera.org/share/4902b4fa4d38f8c917684439a6a76f84\\nhttps://www.coursera.org/account/accomplishments/verify/5YGPRE4NG5GD\\nhttps://www.hackerrank.com/certificates/442af0f3c127\\nhttps://www.hackerrank.com/certificates/66a6a97527e4\\nhttps://learn.microsoft.com/en-us/users/neerajkumar-1372/\\n\\n']\n"
          ]
        }
      ]
    },
    {
      "cell_type": "code",
      "source": [],
      "metadata": {
        "id": "SOWzdxxQSLNn"
      },
      "execution_count": null,
      "outputs": []
    },
    {
      "cell_type": "code",
      "source": [
        "# Add command-line arguments\n",
        "#parser.add_argument('-f', '--file', type=str, help='Input Spreadsheet (.xlsx) containing feedbacks/comments, with column name FeedbackDescription')\n",
        "#parser.add_argument('-o', '--output', type=str, default='output.csv', help='Output file path (default: output.csv)')\n",
        "#parser.add_argument('-m', '--models', type=str, default='models', help='Provide ML models folder path (default: models)')\n",
        "\n",
        "    # Parse the command-line arguments\n",
        "#args = parser.parse_args()\n",
        "\n",
        "import argparse\n",
        "\n",
        "parser = argparse.ArgumentParser(description='Resume Parser')\n",
        "parser.add_argument('-r', '--resume-folder', type=str, help='Input folder containing resumes in a specific format')\n",
        "parser.add_argument('-o', '--output', type=str, default='output.csv', help='Output file path (default: output.csv)')\n",
        "\n",
        "args = parser.parse_args()"
      ],
      "metadata": {
        "id": "3s-xvXhsozGA",
        "colab": {
          "base_uri": "https://localhost:8080/",
          "height": 163
        },
        "outputId": "709fd00f-97c4-428d-f7b4-0d151726280c"
      },
      "execution_count": null,
      "outputs": [
        {
          "output_type": "stream",
          "name": "stderr",
          "text": [
            "usage: colab_kernel_launcher.py [-h] [-r RESUME_FOLDER] [-o OUTPUT]\n",
            "colab_kernel_launcher.py: error: unrecognized arguments: -f /root/.local/share/jupyter/runtime/kernel-2b31c4ff-0a72-477c-875a-db50db00bab1.json\n"
          ]
        },
        {
          "output_type": "error",
          "ename": "SystemExit",
          "evalue": "ignored",
          "traceback": [
            "An exception has occurred, use %tb to see the full traceback.\n",
            "\u001b[0;31mSystemExit\u001b[0m\u001b[0;31m:\u001b[0m 2\n"
          ]
        }
      ]
    },
    {
      "cell_type": "code",
      "source": [
        "#import argparse, os\n",
        "#parser = argparse.ArgumentParser(description='A simple script with command-line arguments.')"
      ],
      "metadata": {
        "id": "PqqrR6rMSec3"
      },
      "execution_count": null,
      "outputs": []
    },
    {
      "cell_type": "code",
      "source": [
        "#python main.py -f 'data/file1'"
      ],
      "metadata": {
        "id": "XRljG3e5Sg_H"
      },
      "execution_count": null,
      "outputs": []
    },
    {
      "cell_type": "code",
      "source": [
        "#import argparse\n",
        "#import spacy\n",
        "#from spacy.training.example import Example"
      ],
      "metadata": {
        "id": "IzKKk6HlTXVC"
      },
      "execution_count": null,
      "outputs": []
    },
    {
      "cell_type": "code",
      "source": [
        "#def train_custom_ner(training_data, output_model_path, iterations=100, dropout=0.5):\n",
        " #   nlp = spacy.blank(\"en\")\n",
        "   # ner = nlp.add_pipe(\"ner\")\n",
        "  #  ner.add_label(\"NAME\")\n",
        "\n",
        "   # examples = []\n",
        "   # for text, annotations in training_data:\n",
        "    #    doc = nlp.make_doc(text)\n",
        "     #   example = Example.from_dict(doc, annotations)\n",
        "      #  examples.append(example)\n",
        "\n",
        "   # nlp.begin_training()\n",
        "    #for _ in range(iterations):\n",
        "     #   spacy.training.shuffle(examples)\n",
        "      #  for example in examples:\n",
        "       #     nlp.update([example], drop=dropout)\n",
        "\n",
        "    # Save the trained model\n",
        "   # nlp.to_disk(output_model_path)"
      ],
      "metadata": {
        "id": "6WmFbiam8XRE"
      },
      "execution_count": null,
      "outputs": []
    },
    {
      "cell_type": "code",
      "source": [
        "def parse_resume(resume_folder, output_file):\n",
        "    # Your resume parsing logic goes here\n",
        "    # This can include reading PDF files from the folder and extracting information\n",
        "    pdf_files = [file for file in os.listdir(resume_folder) if file.endswith('.pdf')]\n",
        "    print(\"PDF files in the folder:\", pdf_files)\n",
        "\n",
        "    # Example: Writing information to the output file\n",
        "    with open(output_file, 'w') as output:\n",
        "        output.write(\"Resume Parsing Output\\n\")\n",
        "        for pdf_file in pdf_files:\n",
        "            output.write(f\"{pdf_file}\\n\")\n",
        "\n",
        "if __name__ == \"__main__\":\n",
        "    parser = argparse.ArgumentParser(description='Resume Parser')\n",
        "    parser.add_argument('-r', '--resume-folder', type=str, help='Input folder containing resumes in a specific format')\n",
        "    parser.add_argument('-o', '--output', type=str, default='output.csv', help='Output file path (default: output.csv)')\n",
        "    args = parser.parse_args()\n",
        "\n",
        "    parse_resume(args.resume_folder, args.output)"
      ],
      "metadata": {
        "id": "xw9Yt9zrYplD",
        "colab": {
          "base_uri": "https://localhost:8080/",
          "height": 199
        },
        "outputId": "1bd2c1fe-fc93-4583-d1c0-e31a92dd17cd"
      },
      "execution_count": null,
      "outputs": [
        {
          "output_type": "stream",
          "name": "stderr",
          "text": [
            "usage: colab_kernel_launcher.py [-h] [-r RESUME_FOLDER] [-o OUTPUT]\n",
            "colab_kernel_launcher.py: error: unrecognized arguments: -f /root/.local/share/jupyter/runtime/kernel-2b31c4ff-0a72-477c-875a-db50db00bab1.json\n"
          ]
        },
        {
          "output_type": "error",
          "ename": "SystemExit",
          "evalue": "ignored",
          "traceback": [
            "An exception has occurred, use %tb to see the full traceback.\n",
            "\u001b[0;31mSystemExit\u001b[0m\u001b[0;31m:\u001b[0m 2\n"
          ]
        },
        {
          "output_type": "stream",
          "name": "stderr",
          "text": [
            "/usr/local/lib/python3.10/dist-packages/IPython/core/interactiveshell.py:3561: UserWarning: To exit: use 'exit', 'quit', or Ctrl-D.\n",
            "  warn(\"To exit: use 'exit', 'quit', or Ctrl-D.\", stacklevel=1)\n"
          ]
        }
      ]
    },
    {
      "cell_type": "code",
      "source": [
        "!python Resume_Parser.py -r \"C:\\Users\\HP\\Desktop\\Resume\" -o output.csv"
      ],
      "metadata": {
        "id": "m_ptPj8_Z3t9",
        "colab": {
          "base_uri": "https://localhost:8080/"
        },
        "outputId": "98398b54-434d-4a6a-cf52-09898a174dfa"
      },
      "execution_count": null,
      "outputs": [
        {
          "output_type": "stream",
          "name": "stdout",
          "text": [
            "python3: can't open file '/content/Resume_Parser.py': [Errno 2] No such file or directory\n"
          ]
        }
      ]
    },
    {
      "cell_type": "code",
      "source": [
        "!python /content/Resume_Parser.py -r r'C:\\Users\\HP\\Desktop\\Resume' -o output.csv\n"
      ],
      "metadata": {
        "colab": {
          "base_uri": "https://localhost:8080/"
        },
        "id": "W-yrn3C9v9NX",
        "outputId": "48911a8b-b16b-4fb4-e995-4566e624a83a"
      },
      "execution_count": null,
      "outputs": [
        {
          "output_type": "stream",
          "name": "stdout",
          "text": [
            "python3: can't open file '/content/Resume_Parser.py': [Errno 2] No such file or directory\n"
          ]
        }
      ]
    },
    {
      "cell_type": "code",
      "source": [
        "\n"
      ],
      "metadata": {
        "id": "76oJM-pJwm14"
      },
      "execution_count": null,
      "outputs": []
    },
    {
      "cell_type": "code",
      "source": [],
      "metadata": {
        "id": "cl_VUaPHxMbs"
      },
      "execution_count": null,
      "outputs": []
    }
  ]
}